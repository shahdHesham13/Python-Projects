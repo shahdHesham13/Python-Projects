{
 "cells": [
  {
   "cell_type": "markdown",
   "metadata": {},
   "source": [
    "## Pulling data from public APIs (without registration) - GET request"
   ]
  },
  {
   "cell_type": "markdown",
   "metadata": {},
   "source": [
    "loading the packages"
   ]
  },
  {
   "cell_type": "markdown",
   "metadata": {},
   "source": [
    "`requests` provides us with the capabilities of sending an HTTP request to a server"
   ]
  },
  {
   "cell_type": "code",
   "execution_count": null,
   "metadata": {},
   "outputs": [],
   "source": [
    "import requests"
   ]
  },
  {
   "cell_type": "markdown",
   "metadata": {},
   "source": [
    "`json` is a useful library for JSON manipulation and pretty print"
   ]
  },
  {
   "cell_type": "markdown",
   "metadata": {},
   "source": [
    "It has two main methods: <br>\n",
    " `.loads()`, which creates a Python dictionary from a JSON format string (just as response`.json()` does)<br>\n",
    " `.dumps()`, which creates a JSON format string out of a Python dictionary "
   ]
  },
  {
   "cell_type": "code",
   "execution_count": null,
   "metadata": {},
   "outputs": [],
   "source": [
    "import json"
   ]
  },
  {
   "cell_type": "markdown",
   "metadata": {},
   "source": [
    "## Extracting data on currency exchange rates"
   ]
  },
  {
   "cell_type": "markdown",
   "metadata": {},
   "source": [
    "We will use an API containing currency exchange rates as published by the European Central Bank\n",
    "Documentation at https://exchangeratesapi.io"
   ]
  },
  {
   "cell_type": "markdown",
   "metadata": {},
   "source": [
    "### Sending a GET request"
   ]
  },
  {
   "cell_type": "code",
   "execution_count": 2,
   "metadata": {},
   "outputs": [],
   "source": [
    "# Define the base URL\n",
    "# Base URL: the part of the URL common to all requests, not containing the parameters\n",
    "base_url = \"https://api.exchangeratesapi.io/latest\""
   ]
  },
  {
   "cell_type": "code",
   "execution_count": 3,
   "metadata": {},
   "outputs": [],
   "source": [
    "# We can make a GET request to this API endpoint with requests.get\n",
    "response = requests.get(base_url, params = {'access_key':'0587efb36a00b21472628d7547ae8698'})\n",
    "\n",
    "# This method returns the response from the server\n",
    "# We store this response in a variable for future processing"
   ]
  },
  {
   "cell_type": "markdown",
   "metadata": {},
   "source": [
    "### Investigating the response"
   ]
  },
  {
   "cell_type": "code",
   "execution_count": 4,
   "metadata": {},
   "outputs": [
    {
     "data": {
      "text/plain": [
       "True"
      ]
     },
     "execution_count": 4,
     "metadata": {},
     "output_type": "execute_result"
    }
   ],
   "source": [
    "# Checking if the request went through ok\n",
    "response.ok"
   ]
  },
  {
   "cell_type": "code",
   "execution_count": 5,
   "metadata": {},
   "outputs": [
    {
     "data": {
      "text/plain": [
       "200"
      ]
     },
     "execution_count": 5,
     "metadata": {},
     "output_type": "execute_result"
    }
   ],
   "source": [
    "# Checking the status code of the response\n",
    "response.status_code"
   ]
  },
  {
   "cell_type": "code",
   "execution_count": 6,
   "metadata": {},
   "outputs": [
    {
     "data": {
      "text/plain": [
       "'{\"success\":true,\"timestamp\":1732048517,\"base\":\"EUR\",\"date\":\"2024-11-19\",\"rates\":{\"AED\":3.891432,\"AFN\":72.043552,\"ALL\":98.110293,\"AMD\":412.101363,\"ANG\":1.909606,\"AOA\":966.766078,\"ARS\":1061.311808,\"AUD\":1.622276,\"AWG\":1.901188,\"AZN\":1.801573,\"BAM\":1.962018,\"BBD\":2.13938,\"BDT\":126.621292,\"BGN\":1.957255,\"BHD\":0.39929,\"BIF\":3070.867112,\"BMD\":1.059468,\"BND\":1.419439,\"BOB\":7.348497,\"BRL\":6.112494,\"BSD\":1.059588,\"BTC\":1.1370752e-5,\"BTN\":89.482123,\"BWP\":14.415687,\"BYN\":3.467489,\"BYR\":20765.566812,\"BZD\":2.135829,\"CAD\":1.479711,\"CDF\":3040.672534,\"CHF\":0.935113,\"CLF\":0.037294,\"CLP\":1029.05041,\"CNY\":7.669801,\"CNH\":7.668108,\"COP\":4655.830783,\"CRC\":538.622268,\"CUC\":1.059468,\"CUP\":28.075894,\"CVE\":110.84683,\"CZK\":25.289177,\"DJF\":188.288581,\"DKK\":7.458483,\"DOP\":64.088477,\"DZD\":141.167671,\"EGP\":52.491117,\"ERN\":15.892015,\"ETB\":129.016695,\"EUR\":1,\"FJD\":2.400333,\"FKP\":0.836256,\"GBP\":0.835538,\"GEL\":2.88706,\"GGP\":0.836256,\"GHS\":16.845327,\"GIP\":0.836256,\"GMD\":74.69074,\"GNF\":9144.265977,\"GTQ\":8.180156,\"GYD\":221.572213,\"HKD\":8.246414,\"HNL\":26.672086,\"HRK\":7.557457,\"HTG\":139.191128,\"HUF\":408.774498,\"IDR\":16791.238623,\"ILS\":3.965392,\"IMP\":0.836256,\"INR\":89.435395,\"IQD\":1388.432414,\"IRR\":44595.650541,\"ISK\":145.507318,\"JEP\":0.836256,\"JMD\":168.052597,\"JOD\":0.751479,\"JPY\":163.898064,\"KES\":136.138807,\"KGS\":91.649403,\"KHR\":4291.90378,\"KMF\":492.387475,\"KPW\":953.520523,\"KRW\":1476.293953,\"KWD\":0.325733,\"KYD\":0.882998,\"KZT\":525.791241,\"LAK\":23255.316062,\"LBP\":94928.305722,\"LKR\":308.277,\"LRD\":192.841158,\"LSL\":19.012156,\"LTL\":3.128332,\"LVL\":0.640861,\"LYD\":5.159424,\"MAD\":10.596826,\"MDL\":19.25703,\"MGA\":4937.119631,\"MKD\":61.534576,\"MMK\":3441.109744,\"MNT\":3600.071169,\"MOP\":8.494521,\"MRU\":42.299273,\"MUR\":49.032145,\"MVR\":16.379432,\"MWK\":1838.17675,\"MXN\":21.30713,\"MYR\":4.738977,\"MZN\":67.726502,\"NAD\":19.017522,\"NGN\":1779.471802,\"NIO\":38.935902,\"NOK\":11.62957,\"NPR\":143.171798,\"NZD\":1.79229,\"OMR\":0.407902,\"PAB\":1.059588,\"PEN\":4.020679,\"PGK\":4.261201,\"PHP\":62.379338,\"PKR\":294.317296,\"PLN\":4.333972,\"PYG\":8252.152953,\"QAR\":3.856989,\"RON\":4.977272,\"RSD\":116.992813,\"RUB\":106.536368,\"RWF\":1451.470741,\"SAR\":3.977423,\"SBD\":8.867236,\"SCR\":14.394229,\"SDG\":637.268624,\"SEK\":11.566113,\"SGD\":1.417615,\"SHP\":0.836256,\"SLE\":23.996612,\"SLL\":22216.512837,\"SOS\":605.492478,\"SRD\":37.651896,\"STD\":21928.842219,\"SVC\":9.271383,\"SYP\":2661.944216,\"SZL\":19.017956,\"THB\":36.604358,\"TJS\":11.263095,\"TMT\":3.708137,\"TND\":3.347673,\"TOP\":2.48138,\"TRY\":36.528301,\"TTD\":7.195006,\"TWD\":34.315851,\"TZS\":2811.808186,\"UAH\":43.744035,\"UGX\":3901.364312,\"USD\":1.059468,\"UYU\":45.48415,\"UZS\":13587.673401,\"VES\":48.503297,\"VND\":26915.776779,\"VUV\":125.782134,\"WST\":2.9576,\"XAF\":658.06118,\"XAG\":0.033894,\"XAU\":0.000403,\"XCD\":2.863265,\"XDR\":0.805954,\"XOF\":656.869701,\"XPF\":119.331742,\"YER\":264.707861,\"ZAR\":19.131746,\"ZMK\":9536.492798,\"ZMW\":29.271597,\"ZWL\":341.148165}}'"
      ]
     },
     "execution_count": 6,
     "metadata": {},
     "output_type": "execute_result"
    }
   ],
   "source": [
    "# Inspecting the content body of the response (as a regular 'string')\n",
    "response.text"
   ]
  },
  {
   "cell_type": "code",
   "execution_count": 7,
   "metadata": {},
   "outputs": [
    {
     "data": {
      "text/plain": [
       "b'{\"success\":true,\"timestamp\":1732048517,\"base\":\"EUR\",\"date\":\"2024-11-19\",\"rates\":{\"AED\":3.891432,\"AFN\":72.043552,\"ALL\":98.110293,\"AMD\":412.101363,\"ANG\":1.909606,\"AOA\":966.766078,\"ARS\":1061.311808,\"AUD\":1.622276,\"AWG\":1.901188,\"AZN\":1.801573,\"BAM\":1.962018,\"BBD\":2.13938,\"BDT\":126.621292,\"BGN\":1.957255,\"BHD\":0.39929,\"BIF\":3070.867112,\"BMD\":1.059468,\"BND\":1.419439,\"BOB\":7.348497,\"BRL\":6.112494,\"BSD\":1.059588,\"BTC\":1.1370752e-5,\"BTN\":89.482123,\"BWP\":14.415687,\"BYN\":3.467489,\"BYR\":20765.566812,\"BZD\":2.135829,\"CAD\":1.479711,\"CDF\":3040.672534,\"CHF\":0.935113,\"CLF\":0.037294,\"CLP\":1029.05041,\"CNY\":7.669801,\"CNH\":7.668108,\"COP\":4655.830783,\"CRC\":538.622268,\"CUC\":1.059468,\"CUP\":28.075894,\"CVE\":110.84683,\"CZK\":25.289177,\"DJF\":188.288581,\"DKK\":7.458483,\"DOP\":64.088477,\"DZD\":141.167671,\"EGP\":52.491117,\"ERN\":15.892015,\"ETB\":129.016695,\"EUR\":1,\"FJD\":2.400333,\"FKP\":0.836256,\"GBP\":0.835538,\"GEL\":2.88706,\"GGP\":0.836256,\"GHS\":16.845327,\"GIP\":0.836256,\"GMD\":74.69074,\"GNF\":9144.265977,\"GTQ\":8.180156,\"GYD\":221.572213,\"HKD\":8.246414,\"HNL\":26.672086,\"HRK\":7.557457,\"HTG\":139.191128,\"HUF\":408.774498,\"IDR\":16791.238623,\"ILS\":3.965392,\"IMP\":0.836256,\"INR\":89.435395,\"IQD\":1388.432414,\"IRR\":44595.650541,\"ISK\":145.507318,\"JEP\":0.836256,\"JMD\":168.052597,\"JOD\":0.751479,\"JPY\":163.898064,\"KES\":136.138807,\"KGS\":91.649403,\"KHR\":4291.90378,\"KMF\":492.387475,\"KPW\":953.520523,\"KRW\":1476.293953,\"KWD\":0.325733,\"KYD\":0.882998,\"KZT\":525.791241,\"LAK\":23255.316062,\"LBP\":94928.305722,\"LKR\":308.277,\"LRD\":192.841158,\"LSL\":19.012156,\"LTL\":3.128332,\"LVL\":0.640861,\"LYD\":5.159424,\"MAD\":10.596826,\"MDL\":19.25703,\"MGA\":4937.119631,\"MKD\":61.534576,\"MMK\":3441.109744,\"MNT\":3600.071169,\"MOP\":8.494521,\"MRU\":42.299273,\"MUR\":49.032145,\"MVR\":16.379432,\"MWK\":1838.17675,\"MXN\":21.30713,\"MYR\":4.738977,\"MZN\":67.726502,\"NAD\":19.017522,\"NGN\":1779.471802,\"NIO\":38.935902,\"NOK\":11.62957,\"NPR\":143.171798,\"NZD\":1.79229,\"OMR\":0.407902,\"PAB\":1.059588,\"PEN\":4.020679,\"PGK\":4.261201,\"PHP\":62.379338,\"PKR\":294.317296,\"PLN\":4.333972,\"PYG\":8252.152953,\"QAR\":3.856989,\"RON\":4.977272,\"RSD\":116.992813,\"RUB\":106.536368,\"RWF\":1451.470741,\"SAR\":3.977423,\"SBD\":8.867236,\"SCR\":14.394229,\"SDG\":637.268624,\"SEK\":11.566113,\"SGD\":1.417615,\"SHP\":0.836256,\"SLE\":23.996612,\"SLL\":22216.512837,\"SOS\":605.492478,\"SRD\":37.651896,\"STD\":21928.842219,\"SVC\":9.271383,\"SYP\":2661.944216,\"SZL\":19.017956,\"THB\":36.604358,\"TJS\":11.263095,\"TMT\":3.708137,\"TND\":3.347673,\"TOP\":2.48138,\"TRY\":36.528301,\"TTD\":7.195006,\"TWD\":34.315851,\"TZS\":2811.808186,\"UAH\":43.744035,\"UGX\":3901.364312,\"USD\":1.059468,\"UYU\":45.48415,\"UZS\":13587.673401,\"VES\":48.503297,\"VND\":26915.776779,\"VUV\":125.782134,\"WST\":2.9576,\"XAF\":658.06118,\"XAG\":0.033894,\"XAU\":0.000403,\"XCD\":2.863265,\"XDR\":0.805954,\"XOF\":656.869701,\"XPF\":119.331742,\"YER\":264.707861,\"ZAR\":19.131746,\"ZMK\":9536.492798,\"ZMW\":29.271597,\"ZWL\":341.148165}}'"
      ]
     },
     "execution_count": 7,
     "metadata": {},
     "output_type": "execute_result"
    }
   ],
   "source": [
    "# Inspecting the content of the response (in 'bytes' format)\n",
    "response.content"
   ]
  },
  {
   "cell_type": "code",
   "execution_count": 9,
   "metadata": {},
   "outputs": [],
   "source": [
    "# The data is presented in JSON format"
   ]
  },
  {
   "cell_type": "markdown",
   "metadata": {},
   "source": [
    "### Handling the JSON"
   ]
  },
  {
   "cell_type": "code",
   "execution_count": 8,
   "metadata": {},
   "outputs": [
    {
     "data": {
      "text/plain": [
       "{'success': True,\n",
       " 'timestamp': 1732048517,\n",
       " 'base': 'EUR',\n",
       " 'date': '2024-11-19',\n",
       " 'rates': {'AED': 3.891432,\n",
       "  'AFN': 72.043552,\n",
       "  'ALL': 98.110293,\n",
       "  'AMD': 412.101363,\n",
       "  'ANG': 1.909606,\n",
       "  'AOA': 966.766078,\n",
       "  'ARS': 1061.311808,\n",
       "  'AUD': 1.622276,\n",
       "  'AWG': 1.901188,\n",
       "  'AZN': 1.801573,\n",
       "  'BAM': 1.962018,\n",
       "  'BBD': 2.13938,\n",
       "  'BDT': 126.621292,\n",
       "  'BGN': 1.957255,\n",
       "  'BHD': 0.39929,\n",
       "  'BIF': 3070.867112,\n",
       "  'BMD': 1.059468,\n",
       "  'BND': 1.419439,\n",
       "  'BOB': 7.348497,\n",
       "  'BRL': 6.112494,\n",
       "  'BSD': 1.059588,\n",
       "  'BTC': 1.1370752e-05,\n",
       "  'BTN': 89.482123,\n",
       "  'BWP': 14.415687,\n",
       "  'BYN': 3.467489,\n",
       "  'BYR': 20765.566812,\n",
       "  'BZD': 2.135829,\n",
       "  'CAD': 1.479711,\n",
       "  'CDF': 3040.672534,\n",
       "  'CHF': 0.935113,\n",
       "  'CLF': 0.037294,\n",
       "  'CLP': 1029.05041,\n",
       "  'CNY': 7.669801,\n",
       "  'CNH': 7.668108,\n",
       "  'COP': 4655.830783,\n",
       "  'CRC': 538.622268,\n",
       "  'CUC': 1.059468,\n",
       "  'CUP': 28.075894,\n",
       "  'CVE': 110.84683,\n",
       "  'CZK': 25.289177,\n",
       "  'DJF': 188.288581,\n",
       "  'DKK': 7.458483,\n",
       "  'DOP': 64.088477,\n",
       "  'DZD': 141.167671,\n",
       "  'EGP': 52.491117,\n",
       "  'ERN': 15.892015,\n",
       "  'ETB': 129.016695,\n",
       "  'EUR': 1,\n",
       "  'FJD': 2.400333,\n",
       "  'FKP': 0.836256,\n",
       "  'GBP': 0.835538,\n",
       "  'GEL': 2.88706,\n",
       "  'GGP': 0.836256,\n",
       "  'GHS': 16.845327,\n",
       "  'GIP': 0.836256,\n",
       "  'GMD': 74.69074,\n",
       "  'GNF': 9144.265977,\n",
       "  'GTQ': 8.180156,\n",
       "  'GYD': 221.572213,\n",
       "  'HKD': 8.246414,\n",
       "  'HNL': 26.672086,\n",
       "  'HRK': 7.557457,\n",
       "  'HTG': 139.191128,\n",
       "  'HUF': 408.774498,\n",
       "  'IDR': 16791.238623,\n",
       "  'ILS': 3.965392,\n",
       "  'IMP': 0.836256,\n",
       "  'INR': 89.435395,\n",
       "  'IQD': 1388.432414,\n",
       "  'IRR': 44595.650541,\n",
       "  'ISK': 145.507318,\n",
       "  'JEP': 0.836256,\n",
       "  'JMD': 168.052597,\n",
       "  'JOD': 0.751479,\n",
       "  'JPY': 163.898064,\n",
       "  'KES': 136.138807,\n",
       "  'KGS': 91.649403,\n",
       "  'KHR': 4291.90378,\n",
       "  'KMF': 492.387475,\n",
       "  'KPW': 953.520523,\n",
       "  'KRW': 1476.293953,\n",
       "  'KWD': 0.325733,\n",
       "  'KYD': 0.882998,\n",
       "  'KZT': 525.791241,\n",
       "  'LAK': 23255.316062,\n",
       "  'LBP': 94928.305722,\n",
       "  'LKR': 308.277,\n",
       "  'LRD': 192.841158,\n",
       "  'LSL': 19.012156,\n",
       "  'LTL': 3.128332,\n",
       "  'LVL': 0.640861,\n",
       "  'LYD': 5.159424,\n",
       "  'MAD': 10.596826,\n",
       "  'MDL': 19.25703,\n",
       "  'MGA': 4937.119631,\n",
       "  'MKD': 61.534576,\n",
       "  'MMK': 3441.109744,\n",
       "  'MNT': 3600.071169,\n",
       "  'MOP': 8.494521,\n",
       "  'MRU': 42.299273,\n",
       "  'MUR': 49.032145,\n",
       "  'MVR': 16.379432,\n",
       "  'MWK': 1838.17675,\n",
       "  'MXN': 21.30713,\n",
       "  'MYR': 4.738977,\n",
       "  'MZN': 67.726502,\n",
       "  'NAD': 19.017522,\n",
       "  'NGN': 1779.471802,\n",
       "  'NIO': 38.935902,\n",
       "  'NOK': 11.62957,\n",
       "  'NPR': 143.171798,\n",
       "  'NZD': 1.79229,\n",
       "  'OMR': 0.407902,\n",
       "  'PAB': 1.059588,\n",
       "  'PEN': 4.020679,\n",
       "  'PGK': 4.261201,\n",
       "  'PHP': 62.379338,\n",
       "  'PKR': 294.317296,\n",
       "  'PLN': 4.333972,\n",
       "  'PYG': 8252.152953,\n",
       "  'QAR': 3.856989,\n",
       "  'RON': 4.977272,\n",
       "  'RSD': 116.992813,\n",
       "  'RUB': 106.536368,\n",
       "  'RWF': 1451.470741,\n",
       "  'SAR': 3.977423,\n",
       "  'SBD': 8.867236,\n",
       "  'SCR': 14.394229,\n",
       "  'SDG': 637.268624,\n",
       "  'SEK': 11.566113,\n",
       "  'SGD': 1.417615,\n",
       "  'SHP': 0.836256,\n",
       "  'SLE': 23.996612,\n",
       "  'SLL': 22216.512837,\n",
       "  'SOS': 605.492478,\n",
       "  'SRD': 37.651896,\n",
       "  'STD': 21928.842219,\n",
       "  'SVC': 9.271383,\n",
       "  'SYP': 2661.944216,\n",
       "  'SZL': 19.017956,\n",
       "  'THB': 36.604358,\n",
       "  'TJS': 11.263095,\n",
       "  'TMT': 3.708137,\n",
       "  'TND': 3.347673,\n",
       "  'TOP': 2.48138,\n",
       "  'TRY': 36.528301,\n",
       "  'TTD': 7.195006,\n",
       "  'TWD': 34.315851,\n",
       "  'TZS': 2811.808186,\n",
       "  'UAH': 43.744035,\n",
       "  'UGX': 3901.364312,\n",
       "  'USD': 1.059468,\n",
       "  'UYU': 45.48415,\n",
       "  'UZS': 13587.673401,\n",
       "  'VES': 48.503297,\n",
       "  'VND': 26915.776779,\n",
       "  'VUV': 125.782134,\n",
       "  'WST': 2.9576,\n",
       "  'XAF': 658.06118,\n",
       "  'XAG': 0.033894,\n",
       "  'XAU': 0.000403,\n",
       "  'XCD': 2.863265,\n",
       "  'XDR': 0.805954,\n",
       "  'XOF': 656.869701,\n",
       "  'XPF': 119.331742,\n",
       "  'YER': 264.707861,\n",
       "  'ZAR': 19.131746,\n",
       "  'ZMK': 9536.492798,\n",
       "  'ZMW': 29.271597,\n",
       "  'ZWL': 341.148165}}"
      ]
     },
     "execution_count": 8,
     "metadata": {},
     "output_type": "execute_result"
    }
   ],
   "source": [
    "# Requests has in-build method to directly convert the response to JSON format\n",
    "response.json()"
   ]
  },
  {
   "cell_type": "code",
   "execution_count": 9,
   "metadata": {},
   "outputs": [
    {
     "data": {
      "text/plain": [
       "dict"
      ]
     },
     "execution_count": 9,
     "metadata": {},
     "output_type": "execute_result"
    }
   ],
   "source": [
    "# In Python, this JSON is stored as a dictionary\n",
    "type(response.json())"
   ]
  },
  {
   "cell_type": "code",
   "execution_count": 11,
   "metadata": {},
   "outputs": [
    {
     "data": {
      "text/plain": [
       "'{\\n    \"success\": true,\\n    \"timestamp\": 1732048517,\\n    \"base\": \"EUR\",\\n    \"date\": \"2024-11-19\",\\n    \"rates\": {\\n        \"AED\": 3.891432,\\n        \"AFN\": 72.043552,\\n        \"ALL\": 98.110293,\\n        \"AMD\": 412.101363,\\n        \"ANG\": 1.909606,\\n        \"AOA\": 966.766078,\\n        \"ARS\": 1061.311808,\\n        \"AUD\": 1.622276,\\n        \"AWG\": 1.901188,\\n        \"AZN\": 1.801573,\\n        \"BAM\": 1.962018,\\n        \"BBD\": 2.13938,\\n        \"BDT\": 126.621292,\\n        \"BGN\": 1.957255,\\n        \"BHD\": 0.39929,\\n        \"BIF\": 3070.867112,\\n        \"BMD\": 1.059468,\\n        \"BND\": 1.419439,\\n        \"BOB\": 7.348497,\\n        \"BRL\": 6.112494,\\n        \"BSD\": 1.059588,\\n        \"BTC\": 1.1370752e-05,\\n        \"BTN\": 89.482123,\\n        \"BWP\": 14.415687,\\n        \"BYN\": 3.467489,\\n        \"BYR\": 20765.566812,\\n        \"BZD\": 2.135829,\\n        \"CAD\": 1.479711,\\n        \"CDF\": 3040.672534,\\n        \"CHF\": 0.935113,\\n        \"CLF\": 0.037294,\\n        \"CLP\": 1029.05041,\\n        \"CNY\": 7.669801,\\n        \"CNH\": 7.668108,\\n        \"COP\": 4655.830783,\\n        \"CRC\": 538.622268,\\n        \"CUC\": 1.059468,\\n        \"CUP\": 28.075894,\\n        \"CVE\": 110.84683,\\n        \"CZK\": 25.289177,\\n        \"DJF\": 188.288581,\\n        \"DKK\": 7.458483,\\n        \"DOP\": 64.088477,\\n        \"DZD\": 141.167671,\\n        \"EGP\": 52.491117,\\n        \"ERN\": 15.892015,\\n        \"ETB\": 129.016695,\\n        \"EUR\": 1,\\n        \"FJD\": 2.400333,\\n        \"FKP\": 0.836256,\\n        \"GBP\": 0.835538,\\n        \"GEL\": 2.88706,\\n        \"GGP\": 0.836256,\\n        \"GHS\": 16.845327,\\n        \"GIP\": 0.836256,\\n        \"GMD\": 74.69074,\\n        \"GNF\": 9144.265977,\\n        \"GTQ\": 8.180156,\\n        \"GYD\": 221.572213,\\n        \"HKD\": 8.246414,\\n        \"HNL\": 26.672086,\\n        \"HRK\": 7.557457,\\n        \"HTG\": 139.191128,\\n        \"HUF\": 408.774498,\\n        \"IDR\": 16791.238623,\\n        \"ILS\": 3.965392,\\n        \"IMP\": 0.836256,\\n        \"INR\": 89.435395,\\n        \"IQD\": 1388.432414,\\n        \"IRR\": 44595.650541,\\n        \"ISK\": 145.507318,\\n        \"JEP\": 0.836256,\\n        \"JMD\": 168.052597,\\n        \"JOD\": 0.751479,\\n        \"JPY\": 163.898064,\\n        \"KES\": 136.138807,\\n        \"KGS\": 91.649403,\\n        \"KHR\": 4291.90378,\\n        \"KMF\": 492.387475,\\n        \"KPW\": 953.520523,\\n        \"KRW\": 1476.293953,\\n        \"KWD\": 0.325733,\\n        \"KYD\": 0.882998,\\n        \"KZT\": 525.791241,\\n        \"LAK\": 23255.316062,\\n        \"LBP\": 94928.305722,\\n        \"LKR\": 308.277,\\n        \"LRD\": 192.841158,\\n        \"LSL\": 19.012156,\\n        \"LTL\": 3.128332,\\n        \"LVL\": 0.640861,\\n        \"LYD\": 5.159424,\\n        \"MAD\": 10.596826,\\n        \"MDL\": 19.25703,\\n        \"MGA\": 4937.119631,\\n        \"MKD\": 61.534576,\\n        \"MMK\": 3441.109744,\\n        \"MNT\": 3600.071169,\\n        \"MOP\": 8.494521,\\n        \"MRU\": 42.299273,\\n        \"MUR\": 49.032145,\\n        \"MVR\": 16.379432,\\n        \"MWK\": 1838.17675,\\n        \"MXN\": 21.30713,\\n        \"MYR\": 4.738977,\\n        \"MZN\": 67.726502,\\n        \"NAD\": 19.017522,\\n        \"NGN\": 1779.471802,\\n        \"NIO\": 38.935902,\\n        \"NOK\": 11.62957,\\n        \"NPR\": 143.171798,\\n        \"NZD\": 1.79229,\\n        \"OMR\": 0.407902,\\n        \"PAB\": 1.059588,\\n        \"PEN\": 4.020679,\\n        \"PGK\": 4.261201,\\n        \"PHP\": 62.379338,\\n        \"PKR\": 294.317296,\\n        \"PLN\": 4.333972,\\n        \"PYG\": 8252.152953,\\n        \"QAR\": 3.856989,\\n        \"RON\": 4.977272,\\n        \"RSD\": 116.992813,\\n        \"RUB\": 106.536368,\\n        \"RWF\": 1451.470741,\\n        \"SAR\": 3.977423,\\n        \"SBD\": 8.867236,\\n        \"SCR\": 14.394229,\\n        \"SDG\": 637.268624,\\n        \"SEK\": 11.566113,\\n        \"SGD\": 1.417615,\\n        \"SHP\": 0.836256,\\n        \"SLE\": 23.996612,\\n        \"SLL\": 22216.512837,\\n        \"SOS\": 605.492478,\\n        \"SRD\": 37.651896,\\n        \"STD\": 21928.842219,\\n        \"SVC\": 9.271383,\\n        \"SYP\": 2661.944216,\\n        \"SZL\": 19.017956,\\n        \"THB\": 36.604358,\\n        \"TJS\": 11.263095,\\n        \"TMT\": 3.708137,\\n        \"TND\": 3.347673,\\n        \"TOP\": 2.48138,\\n        \"TRY\": 36.528301,\\n        \"TTD\": 7.195006,\\n        \"TWD\": 34.315851,\\n        \"TZS\": 2811.808186,\\n        \"UAH\": 43.744035,\\n        \"UGX\": 3901.364312,\\n        \"USD\": 1.059468,\\n        \"UYU\": 45.48415,\\n        \"UZS\": 13587.673401,\\n        \"VES\": 48.503297,\\n        \"VND\": 26915.776779,\\n        \"VUV\": 125.782134,\\n        \"WST\": 2.9576,\\n        \"XAF\": 658.06118,\\n        \"XAG\": 0.033894,\\n        \"XAU\": 0.000403,\\n        \"XCD\": 2.863265,\\n        \"XDR\": 0.805954,\\n        \"XOF\": 656.869701,\\n        \"XPF\": 119.331742,\\n        \"YER\": 264.707861,\\n        \"ZAR\": 19.131746,\\n        \"ZMK\": 9536.492798,\\n        \"ZMW\": 29.271597,\\n        \"ZWL\": 341.148165\\n    }\\n}'"
      ]
     },
     "execution_count": 11,
     "metadata": {},
     "output_type": "execute_result"
    }
   ],
   "source": [
    "# .dumps() has options to make the string 'prettier', more readable\n",
    "# We can choose the number of spaces to be used as indentation\n",
    "json.dumps(response.json(), indent=4)"
   ]
  },
  {
   "cell_type": "code",
   "execution_count": 12,
   "metadata": {},
   "outputs": [
    {
     "name": "stdout",
     "output_type": "stream",
     "text": [
      "{\n",
      "    \"success\": true,\n",
      "    \"timestamp\": 1732048517,\n",
      "    \"base\": \"EUR\",\n",
      "    \"date\": \"2024-11-19\",\n",
      "    \"rates\": {\n",
      "        \"AED\": 3.891432,\n",
      "        \"AFN\": 72.043552,\n",
      "        \"ALL\": 98.110293,\n",
      "        \"AMD\": 412.101363,\n",
      "        \"ANG\": 1.909606,\n",
      "        \"AOA\": 966.766078,\n",
      "        \"ARS\": 1061.311808,\n",
      "        \"AUD\": 1.622276,\n",
      "        \"AWG\": 1.901188,\n",
      "        \"AZN\": 1.801573,\n",
      "        \"BAM\": 1.962018,\n",
      "        \"BBD\": 2.13938,\n",
      "        \"BDT\": 126.621292,\n",
      "        \"BGN\": 1.957255,\n",
      "        \"BHD\": 0.39929,\n",
      "        \"BIF\": 3070.867112,\n",
      "        \"BMD\": 1.059468,\n",
      "        \"BND\": 1.419439,\n",
      "        \"BOB\": 7.348497,\n",
      "        \"BRL\": 6.112494,\n",
      "        \"BSD\": 1.059588,\n",
      "        \"BTC\": 1.1370752e-05,\n",
      "        \"BTN\": 89.482123,\n",
      "        \"BWP\": 14.415687,\n",
      "        \"BYN\": 3.467489,\n",
      "        \"BYR\": 20765.566812,\n",
      "        \"BZD\": 2.135829,\n",
      "        \"CAD\": 1.479711,\n",
      "        \"CDF\": 3040.672534,\n",
      "        \"CHF\": 0.935113,\n",
      "        \"CLF\": 0.037294,\n",
      "        \"CLP\": 1029.05041,\n",
      "        \"CNY\": 7.669801,\n",
      "        \"CNH\": 7.668108,\n",
      "        \"COP\": 4655.830783,\n",
      "        \"CRC\": 538.622268,\n",
      "        \"CUC\": 1.059468,\n",
      "        \"CUP\": 28.075894,\n",
      "        \"CVE\": 110.84683,\n",
      "        \"CZK\": 25.289177,\n",
      "        \"DJF\": 188.288581,\n",
      "        \"DKK\": 7.458483,\n",
      "        \"DOP\": 64.088477,\n",
      "        \"DZD\": 141.167671,\n",
      "        \"EGP\": 52.491117,\n",
      "        \"ERN\": 15.892015,\n",
      "        \"ETB\": 129.016695,\n",
      "        \"EUR\": 1,\n",
      "        \"FJD\": 2.400333,\n",
      "        \"FKP\": 0.836256,\n",
      "        \"GBP\": 0.835538,\n",
      "        \"GEL\": 2.88706,\n",
      "        \"GGP\": 0.836256,\n",
      "        \"GHS\": 16.845327,\n",
      "        \"GIP\": 0.836256,\n",
      "        \"GMD\": 74.69074,\n",
      "        \"GNF\": 9144.265977,\n",
      "        \"GTQ\": 8.180156,\n",
      "        \"GYD\": 221.572213,\n",
      "        \"HKD\": 8.246414,\n",
      "        \"HNL\": 26.672086,\n",
      "        \"HRK\": 7.557457,\n",
      "        \"HTG\": 139.191128,\n",
      "        \"HUF\": 408.774498,\n",
      "        \"IDR\": 16791.238623,\n",
      "        \"ILS\": 3.965392,\n",
      "        \"IMP\": 0.836256,\n",
      "        \"INR\": 89.435395,\n",
      "        \"IQD\": 1388.432414,\n",
      "        \"IRR\": 44595.650541,\n",
      "        \"ISK\": 145.507318,\n",
      "        \"JEP\": 0.836256,\n",
      "        \"JMD\": 168.052597,\n",
      "        \"JOD\": 0.751479,\n",
      "        \"JPY\": 163.898064,\n",
      "        \"KES\": 136.138807,\n",
      "        \"KGS\": 91.649403,\n",
      "        \"KHR\": 4291.90378,\n",
      "        \"KMF\": 492.387475,\n",
      "        \"KPW\": 953.520523,\n",
      "        \"KRW\": 1476.293953,\n",
      "        \"KWD\": 0.325733,\n",
      "        \"KYD\": 0.882998,\n",
      "        \"KZT\": 525.791241,\n",
      "        \"LAK\": 23255.316062,\n",
      "        \"LBP\": 94928.305722,\n",
      "        \"LKR\": 308.277,\n",
      "        \"LRD\": 192.841158,\n",
      "        \"LSL\": 19.012156,\n",
      "        \"LTL\": 3.128332,\n",
      "        \"LVL\": 0.640861,\n",
      "        \"LYD\": 5.159424,\n",
      "        \"MAD\": 10.596826,\n",
      "        \"MDL\": 19.25703,\n",
      "        \"MGA\": 4937.119631,\n",
      "        \"MKD\": 61.534576,\n",
      "        \"MMK\": 3441.109744,\n",
      "        \"MNT\": 3600.071169,\n",
      "        \"MOP\": 8.494521,\n",
      "        \"MRU\": 42.299273,\n",
      "        \"MUR\": 49.032145,\n",
      "        \"MVR\": 16.379432,\n",
      "        \"MWK\": 1838.17675,\n",
      "        \"MXN\": 21.30713,\n",
      "        \"MYR\": 4.738977,\n",
      "        \"MZN\": 67.726502,\n",
      "        \"NAD\": 19.017522,\n",
      "        \"NGN\": 1779.471802,\n",
      "        \"NIO\": 38.935902,\n",
      "        \"NOK\": 11.62957,\n",
      "        \"NPR\": 143.171798,\n",
      "        \"NZD\": 1.79229,\n",
      "        \"OMR\": 0.407902,\n",
      "        \"PAB\": 1.059588,\n",
      "        \"PEN\": 4.020679,\n",
      "        \"PGK\": 4.261201,\n",
      "        \"PHP\": 62.379338,\n",
      "        \"PKR\": 294.317296,\n",
      "        \"PLN\": 4.333972,\n",
      "        \"PYG\": 8252.152953,\n",
      "        \"QAR\": 3.856989,\n",
      "        \"RON\": 4.977272,\n",
      "        \"RSD\": 116.992813,\n",
      "        \"RUB\": 106.536368,\n",
      "        \"RWF\": 1451.470741,\n",
      "        \"SAR\": 3.977423,\n",
      "        \"SBD\": 8.867236,\n",
      "        \"SCR\": 14.394229,\n",
      "        \"SDG\": 637.268624,\n",
      "        \"SEK\": 11.566113,\n",
      "        \"SGD\": 1.417615,\n",
      "        \"SHP\": 0.836256,\n",
      "        \"SLE\": 23.996612,\n",
      "        \"SLL\": 22216.512837,\n",
      "        \"SOS\": 605.492478,\n",
      "        \"SRD\": 37.651896,\n",
      "        \"STD\": 21928.842219,\n",
      "        \"SVC\": 9.271383,\n",
      "        \"SYP\": 2661.944216,\n",
      "        \"SZL\": 19.017956,\n",
      "        \"THB\": 36.604358,\n",
      "        \"TJS\": 11.263095,\n",
      "        \"TMT\": 3.708137,\n",
      "        \"TND\": 3.347673,\n",
      "        \"TOP\": 2.48138,\n",
      "        \"TRY\": 36.528301,\n",
      "        \"TTD\": 7.195006,\n",
      "        \"TWD\": 34.315851,\n",
      "        \"TZS\": 2811.808186,\n",
      "        \"UAH\": 43.744035,\n",
      "        \"UGX\": 3901.364312,\n",
      "        \"USD\": 1.059468,\n",
      "        \"UYU\": 45.48415,\n",
      "        \"UZS\": 13587.673401,\n",
      "        \"VES\": 48.503297,\n",
      "        \"VND\": 26915.776779,\n",
      "        \"VUV\": 125.782134,\n",
      "        \"WST\": 2.9576,\n",
      "        \"XAF\": 658.06118,\n",
      "        \"XAG\": 0.033894,\n",
      "        \"XAU\": 0.000403,\n",
      "        \"XCD\": 2.863265,\n",
      "        \"XDR\": 0.805954,\n",
      "        \"XOF\": 656.869701,\n",
      "        \"XPF\": 119.331742,\n",
      "        \"YER\": 264.707861,\n",
      "        \"ZAR\": 19.131746,\n",
      "        \"ZMK\": 9536.492798,\n",
      "        \"ZMW\": 29.271597,\n",
      "        \"ZWL\": 341.148165\n",
      "    }\n",
      "}\n"
     ]
    }
   ],
   "source": [
    "# In order to visualize these changes, we need to print the string\n",
    "print(json.dumps(response.json(), indent=4))"
   ]
  },
  {
   "cell_type": "code",
   "execution_count": 13,
   "metadata": {},
   "outputs": [
    {
     "data": {
      "text/plain": [
       "dict_keys(['success', 'timestamp', 'base', 'date', 'rates'])"
      ]
     },
     "execution_count": 13,
     "metadata": {},
     "output_type": "execute_result"
    }
   ],
   "source": [
    "# It contains 3 keys; the value for the 'rates' key is another dictionary\n",
    "response.json().keys()"
   ]
  },
  {
   "cell_type": "markdown",
   "metadata": {},
   "source": [
    "### Incorporating parameters in the GET request"
   ]
  },
  {
   "cell_type": "code",
   "execution_count": 14,
   "metadata": {},
   "outputs": [
    {
     "data": {
      "text/plain": [
       "'https://api.exchangeratesapi.io/latest?access_key=0587efb36a00b21472628d7547ae8698&symbols=USD,GBP'"
      ]
     },
     "execution_count": 14,
     "metadata": {},
     "output_type": "execute_result"
    }
   ],
   "source": [
    "# Request parameters are added to the URL after a question mark '?'\n",
    "# In this case, we request for the exchange rates of the US Dollar (USD) and Pound Sterling (GBP) only\n",
    "param_url = base_url + \"?access_key=0587efb36a00b21472628d7547ae8698&symbols=USD,GBP\"\n",
    "param_url"
   ]
  },
  {
   "cell_type": "code",
   "execution_count": 15,
   "metadata": {},
   "outputs": [
    {
     "data": {
      "text/plain": [
       "200"
      ]
     },
     "execution_count": 15,
     "metadata": {},
     "output_type": "execute_result"
    }
   ],
   "source": [
    "# Making a request to the server with the new URL, containing the parameters\n",
    "response = requests.get(param_url)\n",
    "response.status_code"
   ]
  },
  {
   "cell_type": "code",
   "execution_count": 16,
   "metadata": {},
   "outputs": [
    {
     "data": {
      "text/plain": [
       "{'success': True,\n",
       " 'timestamp': 1732048624,\n",
       " 'base': 'EUR',\n",
       " 'date': '2024-11-19',\n",
       " 'rates': {'USD': 1.059423, 'GBP': 0.835493}}"
      ]
     },
     "execution_count": 16,
     "metadata": {},
     "output_type": "execute_result"
    }
   ],
   "source": [
    "# Saving the response data\n",
    "data = response.json()\n",
    "data"
   ]
  },
  {
   "cell_type": "code",
   "execution_count": 17,
   "metadata": {},
   "outputs": [
    {
     "data": {
      "text/plain": [
       "'EUR'"
      ]
     },
     "execution_count": 17,
     "metadata": {},
     "output_type": "execute_result"
    }
   ],
   "source": [
    "# 'data' is a dictionary\n",
    "data['base']"
   ]
  },
  {
   "cell_type": "code",
   "execution_count": 18,
   "metadata": {},
   "outputs": [
    {
     "data": {
      "text/plain": [
       "'2024-11-19'"
      ]
     },
     "execution_count": 18,
     "metadata": {},
     "output_type": "execute_result"
    }
   ],
   "source": [
    "data['date']"
   ]
  },
  {
   "cell_type": "code",
   "execution_count": 19,
   "metadata": {},
   "outputs": [
    {
     "data": {
      "text/plain": [
       "{'USD': 1.059423, 'GBP': 0.835493}"
      ]
     },
     "execution_count": 19,
     "metadata": {},
     "output_type": "execute_result"
    }
   ],
   "source": [
    "data['rates']"
   ]
  },
  {
   "cell_type": "code",
   "execution_count": 28,
   "metadata": {},
   "outputs": [],
   "source": [
    "# As per the documentation of this API, we can change the base with the parameter 'base'\n",
    "param_url = base_url + \"?access_key=0587efb36a00b21472628d7547ae8698&symbols=USD,GBP\""
   ]
  },
  {
   "cell_type": "code",
   "execution_count": 36,
   "metadata": {},
   "outputs": [
    {
     "data": {
      "text/plain": [
       "{'success': True,\n",
       " 'timestamp': 1732048743,\n",
       " 'base': 'EUR',\n",
       " 'date': '2024-11-19',\n",
       " 'rates': {'USD': 1.059333, 'GBP': 0.835502}}"
      ]
     },
     "execution_count": 36,
     "metadata": {},
     "output_type": "execute_result"
    }
   ],
   "source": [
    "# Sending a request and saving the response JSON, all at once\n",
    "data = requests.get(param_url).json()\n",
    "data"
   ]
  },
  {
   "cell_type": "code",
   "execution_count": 37,
   "metadata": {},
   "outputs": [
    {
     "data": {
      "text/plain": [
       "0.835502"
      ]
     },
     "execution_count": 37,
     "metadata": {},
     "output_type": "execute_result"
    }
   ],
   "source": [
    "usd_to_gbp = data['rates']['GBP']\n",
    "usd_to_gbp"
   ]
  },
  {
   "cell_type": "markdown",
   "metadata": {},
   "source": [
    "### Obtaining historical exchange rates"
   ]
  },
  {
   "cell_type": "code",
   "execution_count": 31,
   "metadata": {},
   "outputs": [],
   "source": [
    "base_url = \"https://api.exchangeratesapi.io\""
   ]
  },
  {
   "cell_type": "code",
   "execution_count": 32,
   "metadata": {},
   "outputs": [
    {
     "data": {
      "text/plain": [
       "'https://api.exchangeratesapi.io/2016-01-26'"
      ]
     },
     "execution_count": 32,
     "metadata": {},
     "output_type": "execute_result"
    }
   ],
   "source": [
    "# We can also ask for the exhange rates at a particular day in the past with '/DATE', where DATE is in the format YYYY-MM-DD\n",
    "historical_url = base_url + \"/2016-01-26\"\n",
    "historical_url"
   ]
  },
  {
   "cell_type": "code",
   "execution_count": 38,
   "metadata": {},
   "outputs": [
    {
     "data": {
      "text/plain": [
       "200"
      ]
     },
     "execution_count": 38,
     "metadata": {},
     "output_type": "execute_result"
    }
   ],
   "source": [
    "# Making the GET request\n",
    "response = requests.get(historical_url, params = {'access_key':'0587efb36a00b21472628d7547ae8698'})\n",
    "response.status_code"
   ]
  },
  {
   "cell_type": "code",
   "execution_count": 39,
   "metadata": {},
   "outputs": [
    {
     "name": "stdout",
     "output_type": "stream",
     "text": [
      "{\n",
      "    \"success\": true,\n",
      "    \"timestamp\": 1453852799,\n",
      "    \"historical\": true,\n",
      "    \"base\": \"EUR\",\n",
      "    \"date\": \"2016-01-26\",\n",
      "    \"rates\": {\n",
      "        \"AED\": 3.991061,\n",
      "        \"AFN\": 74.58154,\n",
      "        \"ALL\": 137.965795,\n",
      "        \"AMD\": 530.247142,\n",
      "        \"ANG\": 1.943586,\n",
      "        \"AOA\": 168.999693,\n",
      "        \"ARS\": 14.990112,\n",
      "        \"AUD\": 1.55192,\n",
      "        \"AWG\": 1.948565,\n",
      "        \"AZN\": 1.738253,\n",
      "        \"BAM\": 1.958195,\n",
      "        \"BBD\": 2.173122,\n",
      "        \"BDT\": 85.139638,\n",
      "        \"BGN\": 1.959586,\n",
      "        \"BHD\": 0.409556,\n",
      "        \"BIF\": 1701.160447,\n",
      "        \"BMD\": 1.086561,\n",
      "        \"BND\": 1.550257,\n",
      "        \"BOB\": 7.503896,\n",
      "        \"BRL\": 4.430875,\n",
      "        \"BSD\": 1.086561,\n",
      "        \"BTC\": 0.002759,\n",
      "        \"BTN\": 73.608145,\n",
      "        \"BWP\": 12.59286,\n",
      "        \"BYR\": 22823.99887,\n",
      "        \"BZD\": 2.166505,\n",
      "        \"CAD\": 1.536042,\n",
      "        \"CDF\": 1008.769361,\n",
      "        \"CHF\": 1.104771,\n",
      "        \"CLF\": 0.026732,\n",
      "        \"CLP\": 780.130471,\n",
      "        \"CNY\": 7.136479,\n",
      "        \"COP\": 3643.349976,\n",
      "        \"CRC\": 581.502935,\n",
      "        \"CUC\": 1.086561,\n",
      "        \"CUP\": 1.08504,\n",
      "        \"CVE\": 110.692846,\n",
      "        \"CZK\": 27.049648,\n",
      "        \"DJF\": 193.049679,\n",
      "        \"DKK\": 7.470534,\n",
      "        \"DOP\": 49.597361,\n",
      "        \"DZD\": 116.607946,\n",
      "        \"EGP\": 8.510282,\n",
      "        \"ERN\": 16.300043,\n",
      "        \"ETB\": 23.082356,\n",
      "        \"EUR\": 1,\n",
      "        \"FJD\": 2.351843,\n",
      "        \"FKP\": 0.757253,\n",
      "        \"GBP\": 0.757253,\n",
      "        \"GEL\": 2.699126,\n",
      "        \"GGP\": 0.757253,\n",
      "        \"GHS\": 4.331521,\n",
      "        \"GIP\": 0.757253,\n",
      "        \"GMD\": 42.997577,\n",
      "        \"GNF\": 8411.849927,\n",
      "        \"GTQ\": 8.309943,\n",
      "        \"GYD\": 223.994889,\n",
      "        \"HKD\": 8.469703,\n",
      "        \"HNL\": 24.454289,\n",
      "        \"HRK\": 7.67416,\n",
      "        \"HTG\": 63.815513,\n",
      "        \"HUF\": 312.357732,\n",
      "        \"IDR\": 15029.907588,\n",
      "        \"ILS\": 4.311148,\n",
      "        \"IMP\": 0.757253,\n",
      "        \"INR\": 73.56411,\n",
      "        \"IQD\": 1182.775824,\n",
      "        \"IRR\": 32594.109754,\n",
      "        \"ISK\": 141.807466,\n",
      "        \"JEP\": 0.757253,\n",
      "        \"JMD\": 130.925561,\n",
      "        \"JOD\": 0.770478,\n",
      "        \"JPY\": 128.708432,\n",
      "        \"KES\": 110.981463,\n",
      "        \"KGS\": 82.466493,\n",
      "        \"KHR\": 4414.51754,\n",
      "        \"KMF\": 492.857326,\n",
      "        \"KPW\": 978.002575,\n",
      "        \"KRW\": 1301.9281,\n",
      "        \"KWD\": 0.330032,\n",
      "        \"KYD\": 0.896274,\n",
      "        \"KZT\": 411.653349,\n",
      "        \"LAK\": 8845.300949,\n",
      "        \"LBP\": 1643.659616,\n",
      "        \"LKR\": 156.368877,\n",
      "        \"LRD\": 92.172961,\n",
      "        \"LSL\": 17.833525,\n",
      "        \"LTL\": 3.36406,\n",
      "        \"LVL\": 0.690078,\n",
      "        \"LYD\": 1.515605,\n",
      "        \"MAD\": 10.771797,\n",
      "        \"MDL\": 22.343864,\n",
      "        \"MGA\": 3478.168258,\n",
      "        \"MKD\": 61.675488,\n",
      "        \"MMK\": 1407.859638,\n",
      "        \"MNT\": 2176.200332,\n",
      "        \"MOP\": 8.720062,\n",
      "        \"MUR\": 39.243944,\n",
      "        \"MVR\": 16.666576,\n",
      "        \"MWK\": 770.837583,\n",
      "        \"MXN\": 20.044516,\n",
      "        \"MYR\": 4.636976,\n",
      "        \"MZN\": 49.53631,\n",
      "        \"NAD\": 17.833691,\n",
      "        \"NGN\": 216.20171,\n",
      "        \"NIO\": 30.061684,\n",
      "        \"NOK\": 9.466752,\n",
      "        \"NPR\": 117.805364,\n",
      "        \"NZD\": 1.673047,\n",
      "        \"OMR\": 0.418382,\n",
      "        \"PAB\": 1.086561,\n",
      "        \"PEN\": 3.761785,\n",
      "        \"PGK\": 3.27321,\n",
      "        \"PHP\": 52.177077,\n",
      "        \"PKR\": 114.032,\n",
      "        \"PLN\": 4.454915,\n",
      "        \"PYG\": 6453.313196,\n",
      "        \"QAR\": 3.958007,\n",
      "        \"RON\": 4.534513,\n",
      "        \"RSD\": 123.273591,\n",
      "        \"RUB\": 85.537408,\n",
      "        \"RWF\": 811.845415,\n",
      "        \"SAR\": 4.076612,\n",
      "        \"SBD\": 8.871363,\n",
      "        \"SCR\": 14.265227,\n",
      "        \"SDG\": 6.630971,\n",
      "        \"SEK\": 9.289385,\n",
      "        \"SGD\": 1.550432,\n",
      "        \"SHP\": 0.757253,\n",
      "        \"SLL\": 4478.803914,\n",
      "        \"SOS\": 671.150318,\n",
      "        \"SRD\": 4.338094,\n",
      "        \"STD\": 24561.436868,\n",
      "        \"SVC\": 9.495542,\n",
      "        \"SYP\": 238.934734,\n",
      "        \"SZL\": 17.83619,\n",
      "        \"THB\": 38.950752,\n",
      "        \"TJS\": 8.364998,\n",
      "        \"TMT\": 3.804557,\n",
      "        \"TND\": 2.219164,\n",
      "        \"TOP\": 2.493078,\n",
      "        \"TRY\": 3.269079,\n",
      "        \"TTD\": 6.999677,\n",
      "        \"TWD\": 36.408514,\n",
      "        \"TZS\": 2378.121408,\n",
      "        \"UAH\": 27.008644,\n",
      "        \"UGX\": 3775.58715,\n",
      "        \"USD\": 1.086561,\n",
      "        \"UYU\": 33.701902,\n",
      "        \"UZS\": 3064.356985,\n",
      "        \"VEF\": 6.867559,\n",
      "        \"VND\": 24267.775683,\n",
      "        \"VUV\": 124.236012,\n",
      "        \"WST\": 2.849591,\n",
      "        \"XAF\": 658.116362,\n",
      "        \"XAG\": 0.074814,\n",
      "        \"XAU\": 0.000969,\n",
      "        \"XCD\": 2.934823,\n",
      "        \"XDR\": 0.787598,\n",
      "        \"XOF\": 660.390925,\n",
      "        \"XPF\": 119.331742,\n",
      "        \"YER\": 233.667416,\n",
      "        \"ZAR\": 17.829127,\n",
      "        \"ZMK\": 5707.786029,\n",
      "        \"ZMW\": 12.228889,\n",
      "        \"ZWL\": 350.293368\n",
      "    }\n",
      "}\n"
     ]
    }
   ],
   "source": [
    "# Pretty printing the data\n",
    "data = response.json()\n",
    "print(json.dumps(data, indent=4))"
   ]
  },
  {
   "cell_type": "markdown",
   "metadata": {},
   "source": [
    "### Extracting data for a time period"
   ]
  },
  {
   "cell_type": "code",
   "execution_count": 40,
   "metadata": {},
   "outputs": [],
   "source": [
    "# The last feautre of this API is: giving the historical exchange rates for every day over some time period"
   ]
  },
  {
   "cell_type": "code",
   "execution_count": 69,
   "metadata": {},
   "outputs": [
    {
     "data": {
      "text/plain": [
       "'https://api.exchangeratesapi.io?access_key=0587efb36a00b21472628d7547ae8698/history&start_at=2016-01-26&end_at=2016-01-26&symbols=EUR'"
      ]
     },
     "execution_count": 69,
     "metadata": {},
     "output_type": "execute_result"
    }
   ],
   "source": [
    "# The URL for this request is formed with '/history' and the parameters 'start_at' and 'end_at'\n",
    "time_period = base_url +\"?access_key=0587efb36a00b21472628d7547ae8698\"+ \"/history\" + \"&start_at=2016-01-26&end_at=2016-01-26\" + \"&symbols=EUR\"\n",
    "time_period"
   ]
  },
  {
   "cell_type": "code",
   "execution_count": 70,
   "metadata": {},
   "outputs": [],
   "source": [
    "# Extracting the response JSON object\n",
    "data = requests.get(time_period).json()"
   ]
  },
  {
   "cell_type": "code",
   "execution_count": 74,
   "metadata": {},
   "outputs": [
    {
     "name": "stdout",
     "output_type": "stream",
     "text": [
      "{\n",
      "   \"success\": false,\n",
      "   \"error\": {\n",
      "      \"code\": 301,\n",
      "      \"type\": \"invalid_fields\",\n",
      "      \"info\": \"One or more invalid fields were specified using the fields parameter.\"\n",
      "   }\n",
      "}\n"
     ]
    }
   ],
   "source": [
    "# Pretty printing the JSON\n",
    "# Notice that the dates are in random order\n",
    "print(json.dumps(data, indent=3))"
   ]
  },
  {
   "cell_type": "code",
   "execution_count": 75,
   "metadata": {
    "scrolled": true
   },
   "outputs": [
    {
     "name": "stdout",
     "output_type": "stream",
     "text": [
      "{\n",
      "    \"error\": {\n",
      "        \"code\": 301,\n",
      "        \"info\": \"One or more invalid fields were specified using the fields parameter.\",\n",
      "        \"type\": \"invalid_fields\"\n",
      "    },\n",
      "    \"success\": false\n",
      "}\n"
     ]
    }
   ],
   "source": [
    "# We can use the 'sort_keys' parameter of the json.dumps() method to order these dates chronologically\n",
    "print(json.dumps(data, indent=4, sort_keys=True))"
   ]
  },
  {
   "cell_type": "code",
   "execution_count": 34,
   "metadata": {},
   "outputs": [],
   "source": [
    "# This data can then be used to plot the change in the exchange rate through time or any other further analysis"
   ]
  },
  {
   "cell_type": "markdown",
   "metadata": {},
   "source": [
    "### Testing the API response to incorrect input"
   ]
  },
  {
   "cell_type": "code",
   "execution_count": 35,
   "metadata": {},
   "outputs": [],
   "source": [
    "# Testing how the API behaves if given incorrect input parameters"
   ]
  },
  {
   "cell_type": "code",
   "execution_count": 81,
   "metadata": {},
   "outputs": [],
   "source": [
    "# Trying out an invalid DATE\n",
    "invalid_url = base_url + \"/2016-01-26\""
   ]
  },
  {
   "cell_type": "code",
   "execution_count": 82,
   "metadata": {},
   "outputs": [
    {
     "data": {
      "text/plain": [
       "200"
      ]
     },
     "execution_count": 82,
     "metadata": {},
     "output_type": "execute_result"
    }
   ],
   "source": [
    "# Making the request\n",
    "response = requests.get(invalid_url, params = {'access_key':'0587efb36a00b21472628d7547ae8698'})\n",
    "response.status_code # The server responds with a 400 error code indicating a 'bad request'"
   ]
  },
  {
   "cell_type": "code",
   "execution_count": 83,
   "metadata": {},
   "outputs": [
    {
     "data": {
      "text/plain": [
       "{'success': True,\n",
       " 'timestamp': 1453852799,\n",
       " 'historical': True,\n",
       " 'base': 'EUR',\n",
       " 'date': '2016-01-26',\n",
       " 'rates': {'AED': 3.991061,\n",
       "  'AFN': 74.58154,\n",
       "  'ALL': 137.965795,\n",
       "  'AMD': 530.247142,\n",
       "  'ANG': 1.943586,\n",
       "  'AOA': 168.999693,\n",
       "  'ARS': 14.990112,\n",
       "  'AUD': 1.55192,\n",
       "  'AWG': 1.948565,\n",
       "  'AZN': 1.738253,\n",
       "  'BAM': 1.958195,\n",
       "  'BBD': 2.173122,\n",
       "  'BDT': 85.139638,\n",
       "  'BGN': 1.959586,\n",
       "  'BHD': 0.409556,\n",
       "  'BIF': 1701.160447,\n",
       "  'BMD': 1.086561,\n",
       "  'BND': 1.550257,\n",
       "  'BOB': 7.503896,\n",
       "  'BRL': 4.430875,\n",
       "  'BSD': 1.086561,\n",
       "  'BTC': 0.002759,\n",
       "  'BTN': 73.608145,\n",
       "  'BWP': 12.59286,\n",
       "  'BYR': 22823.99887,\n",
       "  'BZD': 2.166505,\n",
       "  'CAD': 1.536042,\n",
       "  'CDF': 1008.769361,\n",
       "  'CHF': 1.104771,\n",
       "  'CLF': 0.026732,\n",
       "  'CLP': 780.130471,\n",
       "  'CNY': 7.136479,\n",
       "  'COP': 3643.349976,\n",
       "  'CRC': 581.502935,\n",
       "  'CUC': 1.086561,\n",
       "  'CUP': 1.08504,\n",
       "  'CVE': 110.692846,\n",
       "  'CZK': 27.049648,\n",
       "  'DJF': 193.049679,\n",
       "  'DKK': 7.470534,\n",
       "  'DOP': 49.597361,\n",
       "  'DZD': 116.607946,\n",
       "  'EGP': 8.510282,\n",
       "  'ERN': 16.300043,\n",
       "  'ETB': 23.082356,\n",
       "  'EUR': 1,\n",
       "  'FJD': 2.351843,\n",
       "  'FKP': 0.757253,\n",
       "  'GBP': 0.757253,\n",
       "  'GEL': 2.699126,\n",
       "  'GGP': 0.757253,\n",
       "  'GHS': 4.331521,\n",
       "  'GIP': 0.757253,\n",
       "  'GMD': 42.997577,\n",
       "  'GNF': 8411.849927,\n",
       "  'GTQ': 8.309943,\n",
       "  'GYD': 223.994889,\n",
       "  'HKD': 8.469703,\n",
       "  'HNL': 24.454289,\n",
       "  'HRK': 7.67416,\n",
       "  'HTG': 63.815513,\n",
       "  'HUF': 312.357732,\n",
       "  'IDR': 15029.907588,\n",
       "  'ILS': 4.311148,\n",
       "  'IMP': 0.757253,\n",
       "  'INR': 73.56411,\n",
       "  'IQD': 1182.775824,\n",
       "  'IRR': 32594.109754,\n",
       "  'ISK': 141.807466,\n",
       "  'JEP': 0.757253,\n",
       "  'JMD': 130.925561,\n",
       "  'JOD': 0.770478,\n",
       "  'JPY': 128.708432,\n",
       "  'KES': 110.981463,\n",
       "  'KGS': 82.466493,\n",
       "  'KHR': 4414.51754,\n",
       "  'KMF': 492.857326,\n",
       "  'KPW': 978.002575,\n",
       "  'KRW': 1301.9281,\n",
       "  'KWD': 0.330032,\n",
       "  'KYD': 0.896274,\n",
       "  'KZT': 411.653349,\n",
       "  'LAK': 8845.300949,\n",
       "  'LBP': 1643.659616,\n",
       "  'LKR': 156.368877,\n",
       "  'LRD': 92.172961,\n",
       "  'LSL': 17.833525,\n",
       "  'LTL': 3.36406,\n",
       "  'LVL': 0.690078,\n",
       "  'LYD': 1.515605,\n",
       "  'MAD': 10.771797,\n",
       "  'MDL': 22.343864,\n",
       "  'MGA': 3478.168258,\n",
       "  'MKD': 61.675488,\n",
       "  'MMK': 1407.859638,\n",
       "  'MNT': 2176.200332,\n",
       "  'MOP': 8.720062,\n",
       "  'MUR': 39.243944,\n",
       "  'MVR': 16.666576,\n",
       "  'MWK': 770.837583,\n",
       "  'MXN': 20.044516,\n",
       "  'MYR': 4.636976,\n",
       "  'MZN': 49.53631,\n",
       "  'NAD': 17.833691,\n",
       "  'NGN': 216.20171,\n",
       "  'NIO': 30.061684,\n",
       "  'NOK': 9.466752,\n",
       "  'NPR': 117.805364,\n",
       "  'NZD': 1.673047,\n",
       "  'OMR': 0.418382,\n",
       "  'PAB': 1.086561,\n",
       "  'PEN': 3.761785,\n",
       "  'PGK': 3.27321,\n",
       "  'PHP': 52.177077,\n",
       "  'PKR': 114.032,\n",
       "  'PLN': 4.454915,\n",
       "  'PYG': 6453.313196,\n",
       "  'QAR': 3.958007,\n",
       "  'RON': 4.534513,\n",
       "  'RSD': 123.273591,\n",
       "  'RUB': 85.537408,\n",
       "  'RWF': 811.845415,\n",
       "  'SAR': 4.076612,\n",
       "  'SBD': 8.871363,\n",
       "  'SCR': 14.265227,\n",
       "  'SDG': 6.630971,\n",
       "  'SEK': 9.289385,\n",
       "  'SGD': 1.550432,\n",
       "  'SHP': 0.757253,\n",
       "  'SLL': 4478.803914,\n",
       "  'SOS': 671.150318,\n",
       "  'SRD': 4.338094,\n",
       "  'STD': 24561.436868,\n",
       "  'SVC': 9.495542,\n",
       "  'SYP': 238.934734,\n",
       "  'SZL': 17.83619,\n",
       "  'THB': 38.950752,\n",
       "  'TJS': 8.364998,\n",
       "  'TMT': 3.804557,\n",
       "  'TND': 2.219164,\n",
       "  'TOP': 2.493078,\n",
       "  'TRY': 3.269079,\n",
       "  'TTD': 6.999677,\n",
       "  'TWD': 36.408514,\n",
       "  'TZS': 2378.121408,\n",
       "  'UAH': 27.008644,\n",
       "  'UGX': 3775.58715,\n",
       "  'USD': 1.086561,\n",
       "  'UYU': 33.701902,\n",
       "  'UZS': 3064.356985,\n",
       "  'VEF': 6.867559,\n",
       "  'VND': 24267.775683,\n",
       "  'VUV': 124.236012,\n",
       "  'WST': 2.849591,\n",
       "  'XAF': 658.116362,\n",
       "  'XAG': 0.074814,\n",
       "  'XAU': 0.000969,\n",
       "  'XCD': 2.934823,\n",
       "  'XDR': 0.787598,\n",
       "  'XOF': 660.390925,\n",
       "  'XPF': 119.331742,\n",
       "  'YER': 233.667416,\n",
       "  'ZAR': 17.829127,\n",
       "  'ZMK': 5707.786029,\n",
       "  'ZMW': 12.228889,\n",
       "  'ZWL': 350.293368}}"
      ]
     },
     "execution_count": 83,
     "metadata": {},
     "output_type": "execute_result"
    }
   ],
   "source": [
    "# There is also an error message in the JSON\n",
    "response.json()"
   ]
  },
  {
   "cell_type": "code",
   "execution_count": 91,
   "metadata": {},
   "outputs": [],
   "source": [
    "# Testing an invalid BASE CURRENCY\n",
    "invalid_url = base_url + \"/2019-12-01?base=EUR\""
   ]
  },
  {
   "cell_type": "code",
   "execution_count": 92,
   "metadata": {},
   "outputs": [
    {
     "data": {
      "text/plain": [
       "200"
      ]
     },
     "execution_count": 92,
     "metadata": {},
     "output_type": "execute_result"
    }
   ],
   "source": [
    "response = requests.get(invalid_url, params = {'access_key':'0587efb36a00b21472628d7547ae8698'})\n",
    "response.status_code"
   ]
  },
  {
   "cell_type": "code",
   "execution_count": 93,
   "metadata": {},
   "outputs": [
    {
     "data": {
      "text/plain": [
       "{'success': True,\n",
       " 'timestamp': 1575244799,\n",
       " 'historical': True,\n",
       " 'base': 'EUR',\n",
       " 'date': '2019-12-01',\n",
       " 'rates': {'AED': 4.047072,\n",
       "  'AFN': 86.383646,\n",
       "  'ALL': 122.685182,\n",
       "  'AMD': 525.65223,\n",
       "  'ANG': 1.89148,\n",
       "  'AOA': 541.287305,\n",
       "  'ARS': 65.729005,\n",
       "  'AUD': 1.628899,\n",
       "  'AWG': 1.983351,\n",
       "  'AZN': 1.87635,\n",
       "  'BAM': 1.955913,\n",
       "  'BBD': 2.220394,\n",
       "  'BDT': 93.35745,\n",
       "  'BGN': 1.956058,\n",
       "  'BHD': 0.415418,\n",
       "  'BIF': 2062.617252,\n",
       "  'BMD': 1.101862,\n",
       "  'BND': 1.503263,\n",
       "  'BOB': 7.604322,\n",
       "  'BRL': 4.668142,\n",
       "  'BSD': 1.099646,\n",
       "  'BTC': 0.000143,\n",
       "  'BTN': 78.890635,\n",
       "  'BWP': 11.940105,\n",
       "  'BYN': 2.321598,\n",
       "  'BYR': 21596.487265,\n",
       "  'BZD': 2.216594,\n",
       "  'CAD': 1.463801,\n",
       "  'CDF': 1835.701517,\n",
       "  'CHF': 1.102065,\n",
       "  'CLF': 0.034258,\n",
       "  'CLP': 945.279011,\n",
       "  'CNY': 7.748956,\n",
       "  'COP': 3862.763359,\n",
       "  'CRC': 618.586157,\n",
       "  'CUC': 1.101862,\n",
       "  'CUP': 29.199332,\n",
       "  'CVE': 110.269658,\n",
       "  'CZK': 25.542918,\n",
       "  'DJF': 195.823028,\n",
       "  'DKK': 7.471988,\n",
       "  'DOP': 58.107457,\n",
       "  'DZD': 132.510603,\n",
       "  'EGP': 17.762462,\n",
       "  'ERN': 16.527786,\n",
       "  'ETB': 33.713925,\n",
       "  'EUR': 1,\n",
       "  'FJD': 2.41429,\n",
       "  'FKP': 0.895681,\n",
       "  'GBP': 0.853342,\n",
       "  'GEL': 3.267052,\n",
       "  'GGP': 0.853218,\n",
       "  'GHS': 6.180161,\n",
       "  'GIP': 0.895681,\n",
       "  'GMD': 56.392992,\n",
       "  'GNF': 10484.343069,\n",
       "  'GTQ': 8.467557,\n",
       "  'GYD': 230.069726,\n",
       "  'HKD': 8.626067,\n",
       "  'HNL': 27.079145,\n",
       "  'HRK': 7.437514,\n",
       "  'HTG': 106.815509,\n",
       "  'HUF': 334.743317,\n",
       "  'IDR': 15511.007046,\n",
       "  'ILS': 3.824495,\n",
       "  'IMP': 0.853218,\n",
       "  'INR': 79.062974,\n",
       "  'IQD': 1312.815532,\n",
       "  'IRR': 46393.882446,\n",
       "  'ISK': 133.721866,\n",
       "  'JEP': 0.853218,\n",
       "  'JMD': 154.87696,\n",
       "  'JOD': 0.781768,\n",
       "  'JPY': 120.692958,\n",
       "  'KES': 113.054779,\n",
       "  'KGS': 76.965224,\n",
       "  'KHR': 4482.289554,\n",
       "  'KMF': 492.807988,\n",
       "  'KPW': 991.742184,\n",
       "  'KRW': 1302.065161,\n",
       "  'KWD': 0.335143,\n",
       "  'KYD': 0.916439,\n",
       "  'KZT': 425.107977,\n",
       "  'LAK': 9749.211927,\n",
       "  'LBP': 1662.970325,\n",
       "  'LKR': 198.959908,\n",
       "  'LRD': 211.448015,\n",
       "  'LSL': 16.318697,\n",
       "  'LTL': 3.253511,\n",
       "  'LVL': 0.666505,\n",
       "  'LYD': 1.547765,\n",
       "  'MAD': 10.63325,\n",
       "  'MDL': 19.238913,\n",
       "  'MGA': 4050.40124,\n",
       "  'MKD': 61.5026,\n",
       "  'MMK': 1657.769835,\n",
       "  'MNT': 2990.634078,\n",
       "  'MOP': 8.864675,\n",
       "  'MUR': 40.611717,\n",
       "  'MVR': 16.979487,\n",
       "  'MWK': 805.792049,\n",
       "  'MXN': 21.529549,\n",
       "  'MYR': 4.601926,\n",
       "  'MZN': 70.60182,\n",
       "  'NAD': 16.224929,\n",
       "  'NGN': 399.423439,\n",
       "  'NIO': 37.097569,\n",
       "  'NOK': 10.147247,\n",
       "  'NPR': 126.225342,\n",
       "  'NZD': 1.713307,\n",
       "  'OMR': 0.424258,\n",
       "  'PAB': 1.099746,\n",
       "  'PEN': 3.733458,\n",
       "  'PGK': 3.78936,\n",
       "  'PHP': 56.034369,\n",
       "  'PKR': 170.720022,\n",
       "  'PLN': 4.31116,\n",
       "  'PYG': 7099.70018,\n",
       "  'QAR': 4.011844,\n",
       "  'RON': 4.780558,\n",
       "  'RSD': 117.59036,\n",
       "  'RUB': 70.859064,\n",
       "  'RWF': 1026.393442,\n",
       "  'SAR': 4.131926,\n",
       "  'SBD': 9.095137,\n",
       "  'SCR': 15.096638,\n",
       "  'SDG': 49.602497,\n",
       "  'SEK': 10.548138,\n",
       "  'SGD': 1.50668,\n",
       "  'SHP': 1.455454,\n",
       "  'SLL': 10677.038423,\n",
       "  'SOS': 639.079938,\n",
       "  'SRD': 8.217693,\n",
       "  'STD': 23757.006462,\n",
       "  'SVC': 9.622406,\n",
       "  'SYP': 567.45855,\n",
       "  'SZL': 16.103181,\n",
       "  'THB': 33.293594,\n",
       "  'TJS': 10.65595,\n",
       "  'TMT': 3.867534,\n",
       "  'TND': 3.135902,\n",
       "  'TOP': 2.557535,\n",
       "  'TRY': 6.33636,\n",
       "  'TTD': 7.430214,\n",
       "  'TWD': 33.640941,\n",
       "  'TZS': 2531.466963,\n",
       "  'UAH': 26.342614,\n",
       "  'UGX': 4068.772026,\n",
       "  'USD': 1.101862,\n",
       "  'UYU': 41.694763,\n",
       "  'UZS': 10457.972224,\n",
       "  'VEF': 11.00484,\n",
       "  'VND': 25491.077676,\n",
       "  'VUV': 129.495767,\n",
       "  'WST': 2.943946,\n",
       "  'XAF': 655.984739,\n",
       "  'XAG': 0.064899,\n",
       "  'XAU': 0.000754,\n",
       "  'XCD': 2.977836,\n",
       "  'XDR': 0.802486,\n",
       "  'XOF': 655.984739,\n",
       "  'XPF': 119.331742,\n",
       "  'YER': 275.901564,\n",
       "  'ZAR': 16.150983,\n",
       "  'ZMK': 9918.078081,\n",
       "  'ZMW': 16.115882,\n",
       "  'ZWL': 354.799435}}"
      ]
     },
     "execution_count": 93,
     "metadata": {},
     "output_type": "execute_result"
    }
   ],
   "source": [
    "response.json()"
   ]
  },
  {
   "cell_type": "code",
   "execution_count": 99,
   "metadata": {},
   "outputs": [],
   "source": [
    "# Testing an invalid EXCHANGE CURRENCY\n",
    "invalid_url = base_url + \"/2019-12-01?symbols=USD\""
   ]
  },
  {
   "cell_type": "code",
   "execution_count": 100,
   "metadata": {},
   "outputs": [
    {
     "data": {
      "text/plain": [
       "200"
      ]
     },
     "execution_count": 100,
     "metadata": {},
     "output_type": "execute_result"
    }
   ],
   "source": [
    "response = requests.get(invalid_url, params = {'access_key':'0587efb36a00b21472628d7547ae8698'})\n",
    "response.status_code"
   ]
  },
  {
   "cell_type": "code",
   "execution_count": 101,
   "metadata": {},
   "outputs": [
    {
     "data": {
      "text/plain": [
       "{'success': True,\n",
       " 'timestamp': 1575244799,\n",
       " 'historical': True,\n",
       " 'base': 'EUR',\n",
       " 'date': '2019-12-01',\n",
       " 'rates': {'USD': 1.101862}}"
      ]
     },
     "execution_count": 101,
     "metadata": {},
     "output_type": "execute_result"
    }
   ],
   "source": [
    "response.json()"
   ]
  },
  {
   "cell_type": "markdown",
   "metadata": {},
   "source": [
    "## Create a simple currency converter calculater"
   ]
  },
  {
   "cell_type": "markdown",
   "metadata": {},
   "source": [
    " We can use the data provided from this API to create a simple currency convertor\n",
    " <li> gather the parameters of interest from the user as in knowing what to convert.\n",
    " <li> make request to the api with the relevent parameters in the url (GET).\n",
    " <li> check if the response is successfull, if not print the error massege.\n",
    " <li> if suuccessfull extract the relevant data from the responce and calcualte the result.\n",
    " <li> display the result proberly to the user.\n"
   ]
  },
  {
   "cell_type": "markdown",
   "metadata": {},
   "source": [
    "the parameters we need are date, base currency, target currency and quantity of base currency to convert"
   ]
  },
  {
   "cell_type": "code",
   "execution_count": null,
   "metadata": {},
   "outputs": [
    {
     "name": "stdout",
     "output_type": "stream",
     "text": [
      "\n",
      "26.0 EUR is equal to 28.648411999999997 USD, based upon exchange rates on 2019-12-01\n"
     ]
    }
   ],
   "source": [
    "# Gathering input parameters from the user\n",
    "date = input(\"Please enter the date (in the format 'yyyy-mm-dd' or 'latest'): \")\n",
    "base = input(\"Convert from (currency): \")\n",
    "curr = input(\"Convert to (currency): \")\n",
    "quan = float(input(\"How much {} do you want to convert: \".format(base)))\n",
    "\n",
    "# Constructing the URL based on the user parameters and sending a request to the server\n",
    "url = base_url + \"/\" + date + \"?base=\" + base + \"&symbols=\" + curr\n",
    "response = requests.get(url, params = {'access_key':'0587efb36a00b21472628d7547ae8698'})\n",
    "\n",
    "# Displaying the error message, if something went wrong\n",
    "if(response.ok is False):\n",
    "    print(\"\\nError {}:\".format(response.status_code))\n",
    "    print(response.json()['error'])\n",
    "\n",
    "else:\n",
    "    data = response.json()\n",
    "    rate = data['rates'][curr]\n",
    "    \n",
    "    result = quan*rate\n",
    "    \n",
    "    print(\"\\n{0} {1} is equal to {2} {3}, based upon exchange rates on {4}\".format(quan,base,result,curr,data['date']))"
   ]
  }
 ],
 "metadata": {
  "kernelspec": {
   "display_name": "Python 3",
   "language": "python",
   "name": "python3"
  },
  "language_info": {
   "codemirror_mode": {
    "name": "ipython",
    "version": 3
   },
   "file_extension": ".py",
   "mimetype": "text/x-python",
   "name": "python",
   "nbconvert_exporter": "python",
   "pygments_lexer": "ipython3",
   "version": "3.11.9"
  }
 },
 "nbformat": 4,
 "nbformat_minor": 2
}
